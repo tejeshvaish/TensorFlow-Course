{
  "nbformat": 4,
  "nbformat_minor": 0,
  "metadata": {
    "colab": {
      "name": "ZOO.ipynb",
      "provenance": [],
      "authorship_tag": "ABX9TyN1G3GWiipzG8lt3d9o4lk6",
      "include_colab_link": true
    },
    "kernelspec": {
      "name": "python3",
      "display_name": "Python 3"
    },
    "language_info": {
      "name": "python"
    }
  },
  "cells": [
    {
      "cell_type": "markdown",
      "metadata": {
        "id": "view-in-github",
        "colab_type": "text"
      },
      "source": [
        "<a href=\"https://colab.research.google.com/github/tejeshvaish/TensorFlow-Course/blob/master/ZOO.ipynb\" target=\"_parent\"><img src=\"https://colab.research.google.com/assets/colab-badge.svg\" alt=\"Open In Colab\"/></a>"
      ]
    },
    {
      "cell_type": "code",
      "metadata": {
        "id": "zPjy3GJ0K0xC"
      },
      "source": [
        "import torch # main python library to implement DL models\n",
        "# import jovian\n",
        "import torch.nn as nn   # nn models \n",
        "import pandas as pd     # our lovely panda\n",
        "import matplotlib.pyplot as plt\n",
        "import torch.nn.functional as fun     \n",
        "from torch.utils.data import DataLoader, TensorDataset, random_split  # some utility functions to get going. "
      ],
      "execution_count": 100,
      "outputs": []
    },
    {
      "cell_type": "code",
      "metadata": {
        "colab": {
          "base_uri": "https://localhost:8080/",
          "height": 402
        },
        "id": "oqyLdFI2g5_l",
        "outputId": "8978c0af-fb9d-4f04-cc1f-1cfc57a6fdc3"
      },
      "source": [
        "name = \"car.csv\"\n",
        "df = pd.read_csv(name)\n",
        "df.head()\n",
        "df.drop(['Car_Name'],axis=1)"
      ],
      "execution_count": 101,
      "outputs": [
        {
          "output_type": "execute_result",
          "data": {
            "text/html": [
              "<div>\n",
              "<style scoped>\n",
              "    .dataframe tbody tr th:only-of-type {\n",
              "        vertical-align: middle;\n",
              "    }\n",
              "\n",
              "    .dataframe tbody tr th {\n",
              "        vertical-align: top;\n",
              "    }\n",
              "\n",
              "    .dataframe thead th {\n",
              "        text-align: right;\n",
              "    }\n",
              "</style>\n",
              "<table border=\"1\" class=\"dataframe\">\n",
              "  <thead>\n",
              "    <tr style=\"text-align: right;\">\n",
              "      <th></th>\n",
              "      <th>Year</th>\n",
              "      <th>Selling_Price</th>\n",
              "      <th>Present_Price</th>\n",
              "      <th>Kms_Driven</th>\n",
              "      <th>Fuel_Type</th>\n",
              "      <th>Seller_Type</th>\n",
              "      <th>Transmission</th>\n",
              "      <th>Owner</th>\n",
              "    </tr>\n",
              "  </thead>\n",
              "  <tbody>\n",
              "    <tr>\n",
              "      <th>0</th>\n",
              "      <td>2014</td>\n",
              "      <td>3.35</td>\n",
              "      <td>5.59</td>\n",
              "      <td>27000</td>\n",
              "      <td>Petrol</td>\n",
              "      <td>Dealer</td>\n",
              "      <td>Manual</td>\n",
              "      <td>0</td>\n",
              "    </tr>\n",
              "    <tr>\n",
              "      <th>1</th>\n",
              "      <td>2013</td>\n",
              "      <td>4.75</td>\n",
              "      <td>9.54</td>\n",
              "      <td>43000</td>\n",
              "      <td>Diesel</td>\n",
              "      <td>Dealer</td>\n",
              "      <td>Manual</td>\n",
              "      <td>0</td>\n",
              "    </tr>\n",
              "    <tr>\n",
              "      <th>2</th>\n",
              "      <td>2017</td>\n",
              "      <td>7.25</td>\n",
              "      <td>9.85</td>\n",
              "      <td>6900</td>\n",
              "      <td>Petrol</td>\n",
              "      <td>Dealer</td>\n",
              "      <td>Manual</td>\n",
              "      <td>0</td>\n",
              "    </tr>\n",
              "    <tr>\n",
              "      <th>3</th>\n",
              "      <td>2011</td>\n",
              "      <td>2.85</td>\n",
              "      <td>4.15</td>\n",
              "      <td>5200</td>\n",
              "      <td>Petrol</td>\n",
              "      <td>Dealer</td>\n",
              "      <td>Manual</td>\n",
              "      <td>0</td>\n",
              "    </tr>\n",
              "    <tr>\n",
              "      <th>4</th>\n",
              "      <td>2014</td>\n",
              "      <td>4.60</td>\n",
              "      <td>6.87</td>\n",
              "      <td>42450</td>\n",
              "      <td>Diesel</td>\n",
              "      <td>Dealer</td>\n",
              "      <td>Manual</td>\n",
              "      <td>0</td>\n",
              "    </tr>\n",
              "    <tr>\n",
              "      <th>...</th>\n",
              "      <td>...</td>\n",
              "      <td>...</td>\n",
              "      <td>...</td>\n",
              "      <td>...</td>\n",
              "      <td>...</td>\n",
              "      <td>...</td>\n",
              "      <td>...</td>\n",
              "      <td>...</td>\n",
              "    </tr>\n",
              "    <tr>\n",
              "      <th>296</th>\n",
              "      <td>2016</td>\n",
              "      <td>9.50</td>\n",
              "      <td>11.60</td>\n",
              "      <td>33988</td>\n",
              "      <td>Diesel</td>\n",
              "      <td>Dealer</td>\n",
              "      <td>Manual</td>\n",
              "      <td>0</td>\n",
              "    </tr>\n",
              "    <tr>\n",
              "      <th>297</th>\n",
              "      <td>2015</td>\n",
              "      <td>4.00</td>\n",
              "      <td>5.90</td>\n",
              "      <td>60000</td>\n",
              "      <td>Petrol</td>\n",
              "      <td>Dealer</td>\n",
              "      <td>Manual</td>\n",
              "      <td>0</td>\n",
              "    </tr>\n",
              "    <tr>\n",
              "      <th>298</th>\n",
              "      <td>2009</td>\n",
              "      <td>3.35</td>\n",
              "      <td>11.00</td>\n",
              "      <td>87934</td>\n",
              "      <td>Petrol</td>\n",
              "      <td>Dealer</td>\n",
              "      <td>Manual</td>\n",
              "      <td>0</td>\n",
              "    </tr>\n",
              "    <tr>\n",
              "      <th>299</th>\n",
              "      <td>2017</td>\n",
              "      <td>11.50</td>\n",
              "      <td>12.50</td>\n",
              "      <td>9000</td>\n",
              "      <td>Diesel</td>\n",
              "      <td>Dealer</td>\n",
              "      <td>Manual</td>\n",
              "      <td>0</td>\n",
              "    </tr>\n",
              "    <tr>\n",
              "      <th>300</th>\n",
              "      <td>2016</td>\n",
              "      <td>5.30</td>\n",
              "      <td>5.90</td>\n",
              "      <td>5464</td>\n",
              "      <td>Petrol</td>\n",
              "      <td>Dealer</td>\n",
              "      <td>Manual</td>\n",
              "      <td>0</td>\n",
              "    </tr>\n",
              "  </tbody>\n",
              "</table>\n",
              "<p>301 rows × 8 columns</p>\n",
              "</div>"
            ],
            "text/plain": [
              "     Year  Selling_Price  Present_Price  ...  Seller_Type Transmission Owner\n",
              "0    2014           3.35           5.59  ...       Dealer       Manual     0\n",
              "1    2013           4.75           9.54  ...       Dealer       Manual     0\n",
              "2    2017           7.25           9.85  ...       Dealer       Manual     0\n",
              "3    2011           2.85           4.15  ...       Dealer       Manual     0\n",
              "4    2014           4.60           6.87  ...       Dealer       Manual     0\n",
              "..    ...            ...            ...  ...          ...          ...   ...\n",
              "296  2016           9.50          11.60  ...       Dealer       Manual     0\n",
              "297  2015           4.00           5.90  ...       Dealer       Manual     0\n",
              "298  2009           3.35          11.00  ...       Dealer       Manual     0\n",
              "299  2017          11.50          12.50  ...       Dealer       Manual     0\n",
              "300  2016           5.30           5.90  ...       Dealer       Manual     0\n",
              "\n",
              "[301 rows x 8 columns]"
            ]
          },
          "metadata": {
            "tags": []
          },
          "execution_count": 101
        }
      ]
    },
    {
      "cell_type": "code",
      "metadata": {
        "id": "OBYcg5gxhGyX"
      },
      "source": [
        "input_cols = [\"Year\",\"Present_Price\",\"Kms_Driven\",\"Owner\"]\n",
        "categorical_cols = [\"Fuel_Type\",\"Seller_Type\",\"Transmission\"]\n",
        "output_cols = [\"Selling_Price\"]"
      ],
      "execution_count": 102,
      "outputs": []
    },
    {
      "cell_type": "code",
      "metadata": {
        "id": "EDyUCDvFimYI"
      },
      "source": [
        "df.Year = df.Year * ord('Z')/100\n",
        "df.Selling_Price = df.Selling_Price * ord('O')/100.\n",
        "df.Kms_Driven = df.Kms_Driven * ord('O')/100.\n",
        "\n"
      ],
      "execution_count": 103,
      "outputs": []
    },
    {
      "cell_type": "code",
      "metadata": {
        "colab": {
          "base_uri": "https://localhost:8080/",
          "height": 195
        },
        "id": "P8a2WMUXj5OQ",
        "outputId": "6df99eaf-f182-4f34-b6b9-b3cce8ec1031"
      },
      "source": [
        "df.head(5) #now the distinct numbers will have a continous pattern! "
      ],
      "execution_count": 104,
      "outputs": [
        {
          "output_type": "execute_result",
          "data": {
            "text/html": [
              "<div>\n",
              "<style scoped>\n",
              "    .dataframe tbody tr th:only-of-type {\n",
              "        vertical-align: middle;\n",
              "    }\n",
              "\n",
              "    .dataframe tbody tr th {\n",
              "        vertical-align: top;\n",
              "    }\n",
              "\n",
              "    .dataframe thead th {\n",
              "        text-align: right;\n",
              "    }\n",
              "</style>\n",
              "<table border=\"1\" class=\"dataframe\">\n",
              "  <thead>\n",
              "    <tr style=\"text-align: right;\">\n",
              "      <th></th>\n",
              "      <th>Car_Name</th>\n",
              "      <th>Year</th>\n",
              "      <th>Selling_Price</th>\n",
              "      <th>Present_Price</th>\n",
              "      <th>Kms_Driven</th>\n",
              "      <th>Fuel_Type</th>\n",
              "      <th>Seller_Type</th>\n",
              "      <th>Transmission</th>\n",
              "      <th>Owner</th>\n",
              "    </tr>\n",
              "  </thead>\n",
              "  <tbody>\n",
              "    <tr>\n",
              "      <th>0</th>\n",
              "      <td>ritz</td>\n",
              "      <td>1812.6</td>\n",
              "      <td>2.6465</td>\n",
              "      <td>5.59</td>\n",
              "      <td>21330.0</td>\n",
              "      <td>Petrol</td>\n",
              "      <td>Dealer</td>\n",
              "      <td>Manual</td>\n",
              "      <td>0</td>\n",
              "    </tr>\n",
              "    <tr>\n",
              "      <th>1</th>\n",
              "      <td>sx4</td>\n",
              "      <td>1811.7</td>\n",
              "      <td>3.7525</td>\n",
              "      <td>9.54</td>\n",
              "      <td>33970.0</td>\n",
              "      <td>Diesel</td>\n",
              "      <td>Dealer</td>\n",
              "      <td>Manual</td>\n",
              "      <td>0</td>\n",
              "    </tr>\n",
              "    <tr>\n",
              "      <th>2</th>\n",
              "      <td>ciaz</td>\n",
              "      <td>1815.3</td>\n",
              "      <td>5.7275</td>\n",
              "      <td>9.85</td>\n",
              "      <td>5451.0</td>\n",
              "      <td>Petrol</td>\n",
              "      <td>Dealer</td>\n",
              "      <td>Manual</td>\n",
              "      <td>0</td>\n",
              "    </tr>\n",
              "    <tr>\n",
              "      <th>3</th>\n",
              "      <td>wagon r</td>\n",
              "      <td>1809.9</td>\n",
              "      <td>2.2515</td>\n",
              "      <td>4.15</td>\n",
              "      <td>4108.0</td>\n",
              "      <td>Petrol</td>\n",
              "      <td>Dealer</td>\n",
              "      <td>Manual</td>\n",
              "      <td>0</td>\n",
              "    </tr>\n",
              "    <tr>\n",
              "      <th>4</th>\n",
              "      <td>swift</td>\n",
              "      <td>1812.6</td>\n",
              "      <td>3.6340</td>\n",
              "      <td>6.87</td>\n",
              "      <td>33535.5</td>\n",
              "      <td>Diesel</td>\n",
              "      <td>Dealer</td>\n",
              "      <td>Manual</td>\n",
              "      <td>0</td>\n",
              "    </tr>\n",
              "  </tbody>\n",
              "</table>\n",
              "</div>"
            ],
            "text/plain": [
              "  Car_Name    Year  Selling_Price  ...  Seller_Type  Transmission Owner\n",
              "0     ritz  1812.6         2.6465  ...       Dealer        Manual     0\n",
              "1      sx4  1811.7         3.7525  ...       Dealer        Manual     0\n",
              "2     ciaz  1815.3         5.7275  ...       Dealer        Manual     0\n",
              "3  wagon r  1809.9         2.2515  ...       Dealer        Manual     0\n",
              "4    swift  1812.6         3.6340  ...       Dealer        Manual     0\n",
              "\n",
              "[5 rows x 9 columns]"
            ]
          },
          "metadata": {
            "tags": []
          },
          "execution_count": 104
        }
      ]
    },
    {
      "cell_type": "code",
      "metadata": {
        "colab": {
          "base_uri": "https://localhost:8080/",
          "height": 195
        },
        "id": "PHcUF9PGjGqe",
        "outputId": "75bad8fc-2d4f-4c65-e27d-1991075b9f8a"
      },
      "source": [
        "# to use pytorch , I have to convert the dataframe rows into a tensro(numpy array)\n",
        "df1 = df.copy(deep=None)\n",
        "# now 1st I will convert non - number colum to numbered columns\n",
        "for col in categorical_cols:\n",
        "        df1[col] = df1[col].astype('category').cat.codes\n",
        " # Extract input & outupts as numpy arrays\n",
        "X = df1[input_cols].to_numpy()\n",
        "y = df1[output_cols].to_numpy()\n",
        "df1.drop(['Car_Name'],axis=1)\n",
        "df1.head()"
      ],
      "execution_count": 105,
      "outputs": [
        {
          "output_type": "execute_result",
          "data": {
            "text/html": [
              "<div>\n",
              "<style scoped>\n",
              "    .dataframe tbody tr th:only-of-type {\n",
              "        vertical-align: middle;\n",
              "    }\n",
              "\n",
              "    .dataframe tbody tr th {\n",
              "        vertical-align: top;\n",
              "    }\n",
              "\n",
              "    .dataframe thead th {\n",
              "        text-align: right;\n",
              "    }\n",
              "</style>\n",
              "<table border=\"1\" class=\"dataframe\">\n",
              "  <thead>\n",
              "    <tr style=\"text-align: right;\">\n",
              "      <th></th>\n",
              "      <th>Car_Name</th>\n",
              "      <th>Year</th>\n",
              "      <th>Selling_Price</th>\n",
              "      <th>Present_Price</th>\n",
              "      <th>Kms_Driven</th>\n",
              "      <th>Fuel_Type</th>\n",
              "      <th>Seller_Type</th>\n",
              "      <th>Transmission</th>\n",
              "      <th>Owner</th>\n",
              "    </tr>\n",
              "  </thead>\n",
              "  <tbody>\n",
              "    <tr>\n",
              "      <th>0</th>\n",
              "      <td>ritz</td>\n",
              "      <td>1812.6</td>\n",
              "      <td>2.6465</td>\n",
              "      <td>5.59</td>\n",
              "      <td>21330.0</td>\n",
              "      <td>2</td>\n",
              "      <td>0</td>\n",
              "      <td>1</td>\n",
              "      <td>0</td>\n",
              "    </tr>\n",
              "    <tr>\n",
              "      <th>1</th>\n",
              "      <td>sx4</td>\n",
              "      <td>1811.7</td>\n",
              "      <td>3.7525</td>\n",
              "      <td>9.54</td>\n",
              "      <td>33970.0</td>\n",
              "      <td>1</td>\n",
              "      <td>0</td>\n",
              "      <td>1</td>\n",
              "      <td>0</td>\n",
              "    </tr>\n",
              "    <tr>\n",
              "      <th>2</th>\n",
              "      <td>ciaz</td>\n",
              "      <td>1815.3</td>\n",
              "      <td>5.7275</td>\n",
              "      <td>9.85</td>\n",
              "      <td>5451.0</td>\n",
              "      <td>2</td>\n",
              "      <td>0</td>\n",
              "      <td>1</td>\n",
              "      <td>0</td>\n",
              "    </tr>\n",
              "    <tr>\n",
              "      <th>3</th>\n",
              "      <td>wagon r</td>\n",
              "      <td>1809.9</td>\n",
              "      <td>2.2515</td>\n",
              "      <td>4.15</td>\n",
              "      <td>4108.0</td>\n",
              "      <td>2</td>\n",
              "      <td>0</td>\n",
              "      <td>1</td>\n",
              "      <td>0</td>\n",
              "    </tr>\n",
              "    <tr>\n",
              "      <th>4</th>\n",
              "      <td>swift</td>\n",
              "      <td>1812.6</td>\n",
              "      <td>3.6340</td>\n",
              "      <td>6.87</td>\n",
              "      <td>33535.5</td>\n",
              "      <td>1</td>\n",
              "      <td>0</td>\n",
              "      <td>1</td>\n",
              "      <td>0</td>\n",
              "    </tr>\n",
              "  </tbody>\n",
              "</table>\n",
              "</div>"
            ],
            "text/plain": [
              "  Car_Name    Year  Selling_Price  ...  Seller_Type  Transmission  Owner\n",
              "0     ritz  1812.6         2.6465  ...            0             1      0\n",
              "1      sx4  1811.7         3.7525  ...            0             1      0\n",
              "2     ciaz  1815.3         5.7275  ...            0             1      0\n",
              "3  wagon r  1809.9         2.2515  ...            0             1      0\n",
              "4    swift  1812.6         3.6340  ...            0             1      0\n",
              "\n",
              "[5 rows x 9 columns]"
            ]
          },
          "metadata": {
            "tags": []
          },
          "execution_count": 105
        }
      ]
    },
    {
      "cell_type": "code",
      "metadata": {
        "colab": {
          "base_uri": "https://localhost:8080/",
          "height": 782
        },
        "id": "hb1krO4LnlEk",
        "outputId": "2642f297-2e07-44ae-db70-dcbd98b488ed"
      },
      "source": [
        "df1.hist(figsize=(20,10),bins=100)"
      ],
      "execution_count": 106,
      "outputs": [
        {
          "output_type": "execute_result",
          "data": {
            "text/plain": [
              "array([[<matplotlib.axes._subplots.AxesSubplot object at 0x7fb6ca6e1cd0>,\n",
              "        <matplotlib.axes._subplots.AxesSubplot object at 0x7fb6caf79bd0>,\n",
              "        <matplotlib.axes._subplots.AxesSubplot object at 0x7fb6c81686d0>],\n",
              "       [<matplotlib.axes._subplots.AxesSubplot object at 0x7fb6c8187c50>,\n",
              "        <matplotlib.axes._subplots.AxesSubplot object at 0x7fb6c8142210>,\n",
              "        <matplotlib.axes._subplots.AxesSubplot object at 0x7fb6c80f4790>],\n",
              "       [<matplotlib.axes._subplots.AxesSubplot object at 0x7fb6c8122d90>,\n",
              "        <matplotlib.axes._subplots.AxesSubplot object at 0x7fb6c80e0290>,\n",
              "        <matplotlib.axes._subplots.AxesSubplot object at 0x7fb6c80e02d0>]],\n",
              "      dtype=object)"
            ]
          },
          "metadata": {
            "tags": []
          },
          "execution_count": 106
        },
        {
          "output_type": "display_data",
          "data": {
            "image/png": "[encoded data removed]",
            "text/plain": [
              "<Figure size 1440x720 with 9 Axes>"
            ]
          },
          "metadata": {
            "tags": [],
            "image/png": {
              "width": 1165,
              "height": 597
            }
          }
        }
      ]
    },
    {
      "cell_type": "code",
      "metadata": {
        "colab": {
          "base_uri": "https://localhost:8080/"
        },
        "id": "__04D013pEbD",
        "outputId": "d948d12a-5697-4094-ad0b-dd4993574573"
      },
      "source": [
        "print(X.shape)\n",
        "print(y.shape)\n",
        "df1.drop(['Car_Name'],axis=1)\n",
        "df.drop(['Car_Name'],axis=1)\n",
        "\n",
        "print(df.shape,df1.shape)"
      ],
      "execution_count": 107,
      "outputs": [
        {
          "output_type": "stream",
          "text": [
            "(301, 4)\n",
            "(301, 1)\n",
            "(301, 9) (301, 9)\n"
          ],
          "name": "stdout"
        }
      ]
    },
    {
      "cell_type": "code",
      "metadata": {
        "id": "TRmBFdMInrRC"
      },
      "source": [
        "inputs = torch.Tensor(X)\n",
        "targets = torch.Tensor(y)\n",
        "\n",
        "dataset = TensorDataset(inputs, targets)\n",
        "train_ds, val_ds = random_split(dataset, [244, 57])  #divide into train and validation set\n",
        "batch_size = 16 # batch size \n",
        "\n",
        "train_loader = DataLoader(train_ds, batch_size, shuffle=True) # loading train and test data \n",
        "val_loader = DataLoader(val_ds, batch_size)"
      ],
      "execution_count": 108,
      "outputs": []
    },
    {
      "cell_type": "code",
      "metadata": {
        "colab": {
          "base_uri": "https://localhost:8080/"
        },
        "id": "rURVQ9mcsdx4",
        "outputId": "ead736bc-54a8-4fc3-83b5-2a2d921a6782"
      },
      "source": [
        "import torch\n",
        "import os\n",
        "import numpy as np\n",
        "import pandas as pd\n",
        "from tqdm import tqdm\n",
        "import seaborn as sns\n",
        "from pylab import rcParams\n",
        "import matplotlib.pyplot as plt\n",
        "from matplotlib import rc\n",
        "from sklearn.model_selection import train_test_split\n",
        "from sklearn.metrics import confusion_matrix, classification_report\n",
        "from torch import nn, optim\n",
        "import torch.nn.functional as F\n",
        "%matplotlib inline\n",
        "%config InlineBackend.figure_format='retina'\n",
        "sns.set(style='whitegrid', palette='muted', font_scale=1.2)\n",
        "HAPPY_COLORS_PALETTE =\\\n",
        "[\"#01BEFE\", \"#FFDD00\", \"#FF7D00\", \"#FF006D\", \"#93D30C\", \"#8F00FF\"]\n",
        "sns.set_palette(sns.color_palette(HAPPY_COLORS_PALETTE))\n",
        "rcParams['figure.figsize'] = 12, 8\n",
        "RANDOM_SEED = 42\n",
        "np.random.seed(RANDOM_SEED)\n",
        "torch.manual_seed(RANDOM_SEED)"
      ],
      "execution_count": 109,
      "outputs": [
        {
          "output_type": "execute_result",
          "data": {
            "text/plain": [
              "<torch._C.Generator at 0x7fb6e30e67d0>"
            ]
          },
          "metadata": {
            "tags": []
          },
          "execution_count": 109
        }
      ]
    },
    {
      "cell_type": "code",
      "metadata": {
        "colab": {
          "base_uri": "https://localhost:8080/"
        },
        "id": "5AkBilf5pcdP",
        "outputId": "25f4f1d1-d37f-46c7-d716-e291a2a25cdd"
      },
      "source": [
        "input_size = len(input_cols)\n",
        "output_size = len(output_cols)\n",
        "\n",
        "class CarsModel(nn.Module):\n",
        "    def __init__(self):\n",
        "        super().__init__()\n",
        "        # self.fc1 = nn.Linear(input_size,3) #output_size)      # creating a simple   NN with two layers            \n",
        "        # self.fc2= nn.Linear(3,output_size)\n",
        "        self.linear= nn.Linear(input_size,output_size)  # one layer\n",
        "\n",
        "    def forward(self, xb):\n",
        "        # xb = fun.relu(self.fc1(xb))\n",
        "        # xb = torch.sigmoid(self.fc2(xb))\n",
        "        out = self.linear(xb)\n",
        "        return out\n",
        "    \n",
        "    def training_step(self, batch):\n",
        "        inputs, targets = batch \n",
        "        out = self(inputs)          \n",
        "        loss = fun.l1_loss(out, targets)                         \n",
        "        return loss\n",
        "    \n",
        "    def validation_step(self, batch):\n",
        "        inputs, targets = batch\n",
        "        out = self(inputs)\n",
        "        loss = fun.l1_loss(out, targets)                         \n",
        "        return {'val_loss': loss.detach()}\n",
        "        \n",
        "    def validation_epoch_end(self, outputs):\n",
        "        batch_losses = [x['val_loss'] for x in outputs]\n",
        "        epoch_loss = torch.stack(batch_losses).mean()   # mean of the losses!\n",
        "        return {'val_loss': epoch_loss.item()}\n",
        "    \n",
        "    def epoch_end(self, epoch, result, num_epochs):\n",
        "        if (epoch+1) % 50 == 0 or epoch == num_epochs-1:\n",
        "            print(\"Epoch [{}], val_loss: {:.4f}\".format(epoch+1, result['val_loss']))\n",
        "            \n",
        "model = CarsModel()\n",
        "\n",
        "list(model.parameters())"
      ],
      "execution_count": 110,
      "outputs": [
        {
          "output_type": "execute_result",
          "data": {
            "text/plain": [
              "[Parameter containing:\n",
              " tensor([[ 0.3823,  0.4150, -0.1171,  0.4593]], requires_grad=True),\n",
              " Parameter containing:\n",
              " tensor([-0.1096], requires_grad=True)]"
            ]
          },
          "metadata": {
            "tags": []
          },
          "execution_count": 110
        }
      ]
    },
    {
      "cell_type": "code",
      "metadata": {
        "colab": {
          "base_uri": "https://localhost:8080/"
        },
        "id": "RiwaErwjuqcE",
        "outputId": "bfa6e1c5-85d8-4e7f-f083-4f099e02ae8e"
      },
      "source": [
        "def evaluate(model, val_loader):\n",
        "    outputs = [model.validation_step(batch) for batch in val_loader]  \n",
        "    return model.validation_epoch_end(outputs)\n",
        "\n",
        "def fit(epochs, lr, model, train_loader, val_loader, opt_func=torch.optim.SGD): # using stochastic gradient descent to optimize L1 loss function\n",
        "    history = []\n",
        "    optimizer = opt_func(model.parameters(), lr)  #function to optimize parameters \n",
        "    for epoch in range(epochs):\n",
        "        for batch in train_loader:\n",
        "            loss = model.training_step(batch) \n",
        "            loss.backward()\n",
        "            optimizer.step()\n",
        "            optimizer.zero_grad()\n",
        "        result = evaluate(model, val_loader) # evaluating output of epoch .\n",
        "        model.epoch_end(epoch, result, epochs)\n",
        "        history.append(result)\n",
        "    return history\n",
        "\n",
        "# Check the initial value that val_loss have\n",
        "result = evaluate(model, val_loader)\n",
        "print(result)"
      ],
      "execution_count": 111,
      "outputs": [
        {
          "output_type": "stream",
          "text": [
            "{'val_loss': 2417.920166015625}\n"
          ],
          "name": "stdout"
        }
      ]
    },
    {
      "cell_type": "code",
      "metadata": {
        "colab": {
          "base_uri": "https://localhost:8080/"
        },
        "id": "uKy8J-99uwpb",
        "outputId": "3fc07814-6665-4e21-d013-7e99ea7e1a76"
      },
      "source": [
        "epochs = 1000\n",
        "lr = 1e-8\n",
        "history1 = fit(epochs, lr, model, train_loader, val_loader)\n"
      ],
      "execution_count": 114,
      "outputs": [
        {
          "output_type": "stream",
          "text": [
            "Epoch [50], val_loss: 45.3463\n",
            "Epoch [100], val_loss: 38.6631\n",
            "Epoch [150], val_loss: 32.3715\n",
            "Epoch [200], val_loss: 27.3161\n",
            "Epoch [250], val_loss: 20.0964\n",
            "Epoch [300], val_loss: 15.2893\n",
            "Epoch [350], val_loss: 8.6804\n",
            "Epoch [400], val_loss: 3.3386\n",
            "Epoch [450], val_loss: 1.7060\n",
            "Epoch [500], val_loss: 1.4795\n",
            "Epoch [550], val_loss: 1.0294\n",
            "Epoch [600], val_loss: 3.9551\n",
            "Epoch [650], val_loss: 1.4040\n",
            "Epoch [700], val_loss: 7.3077\n",
            "Epoch [750], val_loss: 7.0871\n",
            "Epoch [800], val_loss: 3.4091\n",
            "Epoch [850], val_loss: 3.2571\n",
            "Epoch [900], val_loss: 1.6713\n",
            "Epoch [950], val_loss: 2.6157\n",
            "Epoch [1000], val_loss: 1.2439\n"
          ],
          "name": "stdout"
        }
      ]
    },
    {
      "cell_type": "code",
      "metadata": {
        "colab": {
          "base_uri": "https://localhost:8080/"
        },
        "id": "RyYAcrUFu2rM",
        "outputId": "a4592015-2e84-4513-d47b-6761a0c2b04f"
      },
      "source": [
        "def predict_single(input, target, model):\n",
        "    inputs = input.unsqueeze(0)\n",
        "    predictions = model(inputs)                \n",
        "    prediction = predictions[0].detach()\n",
        "    print(\"Input:\", input)\n",
        "    print(\"Target:\", target)\n",
        "    print(\"Prediction:\", prediction)\n",
        "\n",
        "input, target = val_ds[0]\n",
        "predict_single(input, target, model)\n",
        "input, target = val_ds[5]\n",
        "predict_single(input, target, model)\n",
        "input, target = val_ds[2]\n",
        "predict_single(input, target, model)\n",
        "input, target = val_ds[9]\n",
        "predict_single(input, target, model)\n",
        "input, target = val_ds[10]\n",
        "predict_single(input, target, model)"
      ],
      "execution_count": 117,
      "outputs": [
        {
          "output_type": "stream",
          "text": [
            "Input: tensor([1.8090e+03, 9.5000e-01, 2.1330e+04, 0.0000e+00])\n",
            "Target: tensor([0.3555])\n",
            "Prediction: tensor([0.4212])\n",
            "Input: tensor([1.8153e+03, 9.2900e+00, 2.9230e+04, 0.0000e+00])\n",
            "Target: tensor([6.1225])\n",
            "Prediction: tensor([3.5859])\n",
            "Input: tensor([1.8090e+03, 5.2000e-01, 1.7380e+04, 0.0000e+00])\n",
            "Target: tensor([0.1975])\n",
            "Prediction: tensor([0.3912])\n",
            "Input: tensor([1814.4000,   20.9100, 9480.0000,    0.0000])\n",
            "Target: tensor([11.2575])\n",
            "Prediction: tensor([9.1451])\n",
            "Input: tensor([1.8153e+03, 5.4000e-01, 6.7940e+03, 0.0000e+00])\n",
            "Target: tensor([0.3792])\n",
            "Prediction: tensor([0.8002])\n"
          ],
          "name": "stdout"
        }
      ]
    },
    {
      "cell_type": "code",
      "metadata": {
        "id": "8rVJfC4q0hEY"
      },
      "source": [
        ""
      ],
      "execution_count": null,
      "outputs": []
    }
  ]
}